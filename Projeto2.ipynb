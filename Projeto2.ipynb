{
 "cells": [
  {
   "cell_type": "markdown",
   "metadata": {},
   "source": [
    "___\n",
    "# Projeto 2 - Insper \n",
    "### Ciência dos Dados:\n",
    "___"
   ]
  },
  {
   "cell_type": "markdown",
   "metadata": {},
   "source": [
    "Nome: Antonio Vieira Fuziy\n",
    "\n",
    "Nome: Ramon Menegatto Gonzalez"
   ]
  },
  {
   "cell_type": "markdown",
   "metadata": {},
   "source": [
    "___\n",
    "- **O produto escolhido pela dupla foi o banco Nubank. A proposta da escolha foi identificar como comentários relevantes, tweets que apontassem alguma deficiência, melhoria ou benefício do serviço do Nubank. Dessa forma seria possível identificar os pontos positivos e negativos em relação a empresa, esses comentários poderiam ser utilizados para corrigir os problemas da empresa e aumentar a sua aprovação entre seus clientes cada vez mais. Além disso, os comentários considerados irrelevantes foram os que não acrescentavam nada ao Nubank.**"
   ]
  },
  {
   "cell_type": "markdown",
   "metadata": {},
   "source": [
    "___\n",
    "### Importando Bibliotecas"
   ]
  },
  {
   "cell_type": "code",
   "execution_count": 1044,
   "metadata": {
    "jupyter": {
     "outputs_hidden": true
    }
   },
   "outputs": [],
   "source": [
    "import tweepy\n",
    "import math\n",
    "import os.path\n",
    "import pandas as pd\n",
    "import json\n",
    "from random import shuffle\n",
    "import matplotlib.pyplot as plt\n",
    "import re\n",
    "import emoji\n",
    "import emoji_list\n",
    "\n",
    "plt.style.use('ggplot')"
   ]
  },
  {
   "cell_type": "code",
   "execution_count": 1045,
   "metadata": {
    "jupyter": {
     "outputs_hidden": true
    }
   },
   "outputs": [],
   "source": [
    "#Dados de autenticação do twitter:\n",
    "\n",
    "#Coloque aqui o identificador da conta no twitter: @fulano\n",
    "\n",
    "#leitura do arquivo no formato JSON\n",
    "with open('auth.pass') as fp:\n",
    "    data = json.load(fp)\n",
    "\n",
    "#Configurando a biblioteca. Não modificar\n",
    "auth = tweepy.OAuthHandler(data['consumer_key'], data['consumer_secret'])\n",
    "auth.set_access_token(data['access_token'], data['access_token_secret'])"
   ]
  },
  {
   "cell_type": "markdown",
   "metadata": {},
   "source": [
    "___\n",
    "# Montando o Classificador Naive-Bayes\n",
    "\n",
    "- **Considerando apenas as mensagens da planilha Treinamento, utilizou-se as células abaixo para ensinar o classificador, por meio dos cálculos das probabilidades de cada palavra. Dessa forma, essas probabilidades seriam utilizadas para classificar o excel (Teste).**"
   ]
  },
  {
   "cell_type": "markdown",
   "metadata": {},
   "source": [
    "___\n",
    "#### Utilizando Excel de Treinamento já classificado."
   ]
  },
  {
   "cell_type": "code",
   "execution_count": 1049,
   "metadata": {},
   "outputs": [],
   "source": [
    "df = pd.read_excel('Nubank.xlsx')"
   ]
  },
  {
   "cell_type": "code",
   "execution_count": 1050,
   "metadata": {},
   "outputs": [],
   "source": [
    "relevancia = df.iloc[0:,0]\n",
    "tweets = df.iloc[0:,1]"
   ]
  },
  {
   "cell_type": "code",
   "execution_count": 1051,
   "metadata": {},
   "outputs": [
    {
     "data": {
      "text/html": [
       "<div>\n",
       "<style scoped>\n",
       "    .dataframe tbody tr th:only-of-type {\n",
       "        vertical-align: middle;\n",
       "    }\n",
       "\n",
       "    .dataframe tbody tr th {\n",
       "        vertical-align: top;\n",
       "    }\n",
       "\n",
       "    .dataframe thead th {\n",
       "        text-align: right;\n",
       "    }\n",
       "</style>\n",
       "<table border=\"1\" class=\"dataframe\">\n",
       "  <thead>\n",
       "    <tr style=\"text-align: right;\">\n",
       "      <th></th>\n",
       "      <th>Treinamento</th>\n",
       "      <th>Relevancia</th>\n",
       "    </tr>\n",
       "  </thead>\n",
       "  <tbody>\n",
       "    <tr>\n",
       "      <th>0</th>\n",
       "      <td>\"a maioria das pessoas pensam que o design é c...</td>\n",
       "      <td>0</td>\n",
       "    </tr>\n",
       "    <tr>\n",
       "      <th>1</th>\n",
       "      <td>@_anairam claro! por aqui, nosso tempo de resp...</td>\n",
       "      <td>0</td>\n",
       "    </tr>\n",
       "    <tr>\n",
       "      <th>2</th>\n",
       "      <td>@_thalinho @ranisalt @nubank tá mesmo, meu ted...</td>\n",
       "      <td>0</td>\n",
       "    </tr>\n",
       "    <tr>\n",
       "      <th>3</th>\n",
       "      <td>@_venite_ no de crédito, do nubank ainda, só q...</td>\n",
       "      <td>0</td>\n",
       "    </tr>\n",
       "    <tr>\n",
       "      <th>4</th>\n",
       "      <td>@00klaus2521m olá, pessoal! tivemos uma instab...</td>\n",
       "      <td>0</td>\n",
       "    </tr>\n",
       "  </tbody>\n",
       "</table>\n",
       "</div>"
      ],
      "text/plain": [
       "                                         Treinamento  Relevancia\n",
       "0  \"a maioria das pessoas pensam que o design é c...           0\n",
       "1  @_anairam claro! por aqui, nosso tempo de resp...           0\n",
       "2  @_thalinho @ranisalt @nubank tá mesmo, meu ted...           0\n",
       "3  @_venite_ no de crédito, do nubank ainda, só q...           0\n",
       "4  @00klaus2521m olá, pessoal! tivemos uma instab...           0"
      ]
     },
     "execution_count": 1051,
     "metadata": {},
     "output_type": "execute_result"
    }
   ],
   "source": [
    "df.head()"
   ]
  },
  {
   "cell_type": "markdown",
   "metadata": {},
   "source": [
    "___\n",
    "#### Função para limpar os tweets."
   ]
  },
  {
   "cell_type": "code",
   "execution_count": 1052,
   "metadata": {},
   "outputs": [],
   "source": [
    "def limpando_frases(dataframe, index):\n",
    "    \n",
    "    caractere = dataframe[index]\n",
    "    \n",
    "    caractere = caractere.str.lower()\n",
    "\n",
    "    pontuacoes = ['.', ':', ';', '\"', \"'\", '?', '(', ')', '[',']',',', '\\n', '\\t','?','!']\n",
    "    \n",
    "    for letra in pontuacoes:\n",
    "        \n",
    "        caractere = caractere.str.replace(letra,'')\n",
    "        \n",
    "    caractere = caractere.str.replace('é','e')\n",
    "    caractere = caractere.str.replace('ê','e')\n",
    "    caractere = caractere.str.replace('á','a')\n",
    "    caractere = caractere.str.replace('ã','a')\n",
    "    caractere = caractere.str.replace('ô','o')\n",
    "    caractere = caractere.str.replace('ó','o')\n",
    "    caractere = caractere.str.replace('ú','u')\n",
    "    caractere = caractere.str.replace('ç','c')\n",
    "    caractere = caractere.str.replace('í','i')\n",
    "    caractere = caractere.str.replace('@','')\n",
    "        \n",
    "    dataframe[index] = caractere\n",
    "\n",
    "    return dataframe\n",
    "\n",
    "titulo = 'Treinamento'\n",
    "data = limpando_frases(df,titulo)"
   ]
  },
  {
   "cell_type": "code",
   "execution_count": 1053,
   "metadata": {},
   "outputs": [
    {
     "data": {
      "text/html": [
       "<div>\n",
       "<style scoped>\n",
       "    .dataframe tbody tr th:only-of-type {\n",
       "        vertical-align: middle;\n",
       "    }\n",
       "\n",
       "    .dataframe tbody tr th {\n",
       "        vertical-align: top;\n",
       "    }\n",
       "\n",
       "    .dataframe thead th {\n",
       "        text-align: right;\n",
       "    }\n",
       "</style>\n",
       "<table border=\"1\" class=\"dataframe\">\n",
       "  <thead>\n",
       "    <tr style=\"text-align: right;\">\n",
       "      <th></th>\n",
       "      <th>Treinamento</th>\n",
       "      <th>Relevancia</th>\n",
       "    </tr>\n",
       "  </thead>\n",
       "  <tbody>\n",
       "    <tr>\n",
       "      <th>0</th>\n",
       "      <td>a maioria das pessoas pensam que o design e co...</td>\n",
       "      <td>0</td>\n",
       "    </tr>\n",
       "    <tr>\n",
       "      <th>1</th>\n",
       "      <td>_anairam claro por aqui nosso tempo de respost...</td>\n",
       "      <td>0</td>\n",
       "    </tr>\n",
       "    <tr>\n",
       "      <th>2</th>\n",
       "      <td>_thalinho ranisalt nubank ta mesmo meu ted ate...</td>\n",
       "      <td>0</td>\n",
       "    </tr>\n",
       "    <tr>\n",
       "      <th>3</th>\n",
       "      <td>_venite_ no de credito do nubank ainda so quer...</td>\n",
       "      <td>0</td>\n",
       "    </tr>\n",
       "    <tr>\n",
       "      <th>4</th>\n",
       "      <td>00klaus2521m ola pessoal tivemos uma instabili...</td>\n",
       "      <td>0</td>\n",
       "    </tr>\n",
       "  </tbody>\n",
       "</table>\n",
       "</div>"
      ],
      "text/plain": [
       "                                         Treinamento  Relevancia\n",
       "0  a maioria das pessoas pensam que o design e co...           0\n",
       "1  _anairam claro por aqui nosso tempo de respost...           0\n",
       "2  _thalinho ranisalt nubank ta mesmo meu ted ate...           0\n",
       "3  _venite_ no de credito do nubank ainda so quer...           0\n",
       "4  00klaus2521m ola pessoal tivemos uma instabili...           0"
      ]
     },
     "execution_count": 1053,
     "metadata": {},
     "output_type": "execute_result"
    }
   ],
   "source": [
    "data.head()"
   ]
  },
  {
   "cell_type": "markdown",
   "metadata": {},
   "source": [
    "___\n",
    "#### Função para tirar os  # e os espaços entre as palavras."
   ]
  },
  {
   "cell_type": "code",
   "execution_count": 1054,
   "metadata": {},
   "outputs": [],
   "source": [
    "def listando_palavras(dataframe, index):\n",
    "    \n",
    "    coluna = dataframe[index].str.split(' ')\n",
    "\n",
    "    df_treinamento_split = pd.DataFrame()\n",
    "    df_treinamento_split['lista_palavras'] = []\n",
    "\n",
    "    for lista_dataframe in coluna:\n",
    "        \n",
    "        for caractere in ['#','', ' ']:\n",
    "            \n",
    "            while lista_dataframe.count(caractere) != 0:\n",
    "                lista_dataframe.remove(caractere)\n",
    "\n",
    "        for palavra in lista_dataframe:\n",
    "            \n",
    "            if '@' in palavra and palavra != '@nubank':\n",
    "                lista_dataframe.remove(palavra) \n",
    "                \n",
    "        df_treinamento_split = df_treinamento_split.append({'lista_palavras': lista_dataframe}, ignore_index=True)\n",
    "                \n",
    "    return df_treinamento_split\n",
    "\n",
    "df_treinamento_split = listando_palavras(df,titulo)"
   ]
  },
  {
   "cell_type": "code",
   "execution_count": 1055,
   "metadata": {},
   "outputs": [
    {
     "data": {
      "text/html": [
       "<div>\n",
       "<style scoped>\n",
       "    .dataframe tbody tr th:only-of-type {\n",
       "        vertical-align: middle;\n",
       "    }\n",
       "\n",
       "    .dataframe tbody tr th {\n",
       "        vertical-align: top;\n",
       "    }\n",
       "\n",
       "    .dataframe thead th {\n",
       "        text-align: right;\n",
       "    }\n",
       "</style>\n",
       "<table border=\"1\" class=\"dataframe\">\n",
       "  <thead>\n",
       "    <tr style=\"text-align: right;\">\n",
       "      <th></th>\n",
       "      <th>lista_palavras</th>\n",
       "    </tr>\n",
       "  </thead>\n",
       "  <tbody>\n",
       "    <tr>\n",
       "      <th>0</th>\n",
       "      <td>[a, maioria, das, pessoas, pensam, que, o, des...</td>\n",
       "    </tr>\n",
       "    <tr>\n",
       "      <th>1</th>\n",
       "      <td>[_anairam, claro, por, aqui, nosso, tempo, de,...</td>\n",
       "    </tr>\n",
       "    <tr>\n",
       "      <th>2</th>\n",
       "      <td>[_thalinho, ranisalt, nubank, ta, mesmo, meu, ...</td>\n",
       "    </tr>\n",
       "    <tr>\n",
       "      <th>3</th>\n",
       "      <td>[_venite_, no, de, credito, do, nubank, ainda,...</td>\n",
       "    </tr>\n",
       "    <tr>\n",
       "      <th>4</th>\n",
       "      <td>[00klaus2521m, ola, pessoal, tivemos, uma, ins...</td>\n",
       "    </tr>\n",
       "  </tbody>\n",
       "</table>\n",
       "</div>"
      ],
      "text/plain": [
       "                                      lista_palavras\n",
       "0  [a, maioria, das, pessoas, pensam, que, o, des...\n",
       "1  [_anairam, claro, por, aqui, nosso, tempo, de,...\n",
       "2  [_thalinho, ranisalt, nubank, ta, mesmo, meu, ...\n",
       "3  [_venite_, no, de, credito, do, nubank, ainda,...\n",
       "4  [00klaus2521m, ola, pessoal, tivemos, uma, ins..."
      ]
     },
     "execution_count": 1055,
     "metadata": {},
     "output_type": "execute_result"
    }
   ],
   "source": [
    "df_treinamento_split.head()"
   ]
  },
  {
   "cell_type": "markdown",
   "metadata": {},
   "source": [
    "___\n",
    "#### Função para calcular as probabilidades de cada palavra."
   ]
  },
  {
   "cell_type": "code",
   "execution_count": 1056,
   "metadata": {},
   "outputs": [],
   "source": [
    "def calculando_ocorrencias(dataframe):\n",
    "    #Puxando coluna do dataframe que apresenta as linhas como listas que os termos são as palavras do tweet.\n",
    "    coluna = dataframe['lista_palavras']\n",
    "    \n",
    "    #Criando DataFrame novo que apresenta as probabilidades de todas as palavras presentes nos tweets.\n",
    "    probabilidade = pd.DataFrame()\n",
    "    probabilidade['lista_palavras'] = []\n",
    "    \n",
    "    #Percorrendo as linhas do DataFrame as quais são representadas por listas em que os termos são as palavras dos tweets.. \n",
    "    for lista_dataframe in coluna:\n",
    "        \n",
    "        #Percorrendo agora as palavras das listas que representam os tweets. \n",
    "        for linha in lista_dataframe:\n",
    "            \n",
    "            #Criando a probabilidade de cada um de acordo com o dataframe.\n",
    "            probabilidade = probabilidade.append({'lista_palavras': linha}, ignore_index=True)\n",
    "    \n",
    "    return probabilidade['lista_palavras']\n",
    "\n",
    "df_palavras = calculando_ocorrencias(df_treinamento_split)"
   ]
  },
  {
   "cell_type": "code",
   "execution_count": 1057,
   "metadata": {},
   "outputs": [],
   "source": [
    "tabela_nubank = data"
   ]
  },
  {
   "cell_type": "code",
   "execution_count": 1058,
   "metadata": {
    "scrolled": false
   },
   "outputs": [],
   "source": [
    "relevancia1 = tabela_nubank.loc[(data['Relevancia']==1)]"
   ]
  },
  {
   "cell_type": "code",
   "execution_count": 1059,
   "metadata": {},
   "outputs": [],
   "source": [
    "relevancia0 = tabela_nubank.loc[(data['Relevancia']==0)]"
   ]
  },
  {
   "cell_type": "markdown",
   "metadata": {},
   "source": [
    "___\n",
    "- ** Fazendo a contagem de todas as palavras dos tweets.**"
   ]
  },
  {
   "cell_type": "code",
   "execution_count": 1060,
   "metadata": {
    "scrolled": true
   },
   "outputs": [],
   "source": [
    "contagem_tabela_nubank = df_palavras.value_counts()"
   ]
  },
  {
   "cell_type": "markdown",
   "metadata": {},
   "source": [
    "___\n",
    "- **Fazendo contagem das relevâncias de 0 a 1.**"
   ]
  },
  {
   "cell_type": "code",
   "execution_count": 1061,
   "metadata": {},
   "outputs": [],
   "source": [
    "contagem_relevancia = relevancia.value_counts()"
   ]
  },
  {
   "cell_type": "markdown",
   "metadata": {},
   "source": [
    "___\n",
    "- **Gerando porcentagem das palavras de todos os tweets.**"
   ]
  },
  {
   "cell_type": "code",
   "execution_count": 1062,
   "metadata": {},
   "outputs": [],
   "source": [
    "tabela_nubank_relativa = df_palavras.value_counts(True)"
   ]
  },
  {
   "cell_type": "code",
   "execution_count": 1063,
   "metadata": {},
   "outputs": [
    {
     "data": {
      "text/plain": [
       "nubank    0.049385\n",
       "e         0.027954\n",
       "o         0.026836\n",
       "de        0.025158\n",
       "que       0.020686\n",
       "Name: lista_palavras, dtype: float64"
      ]
     },
     "execution_count": 1063,
     "metadata": {},
     "output_type": "execute_result"
    }
   ],
   "source": [
    "tabela_nubank_relativa.head()"
   ]
  },
  {
   "cell_type": "markdown",
   "metadata": {},
   "source": [
    "___\n",
    "- **Utilizando as funções acima para calcular as probabilidades das palavras em cada relevância.**"
   ]
  },
  {
   "cell_type": "markdown",
   "metadata": {},
   "source": [
    "___\n",
    "- **Transformando todas as frases do Excel Treinamento em listas em que cada termo é uma palavra por meio da função `listando_palavras(dataframe,index)`.**"
   ]
  },
  {
   "cell_type": "code",
   "execution_count": 1064,
   "metadata": {},
   "outputs": [],
   "source": [
    "titulo = 'Treinamento'\n",
    "df_lista_relevante = listando_palavras(relevancia1,titulo)\n",
    "df_lista_irrelevante = listando_palavras(relevancia0,titulo)"
   ]
  },
  {
   "cell_type": "markdown",
   "metadata": {},
   "source": [
    "___\n",
    "- **Calculando a contagem das palavras em cada relevância por meio da função `calculando_ocorrencias(dataframe)`.**"
   ]
  },
  {
   "cell_type": "code",
   "execution_count": 1065,
   "metadata": {},
   "outputs": [],
   "source": [
    "contagem_relevante = calculando_ocorrencias(df_lista_relevante)\n",
    "contagem_irrelevante = calculando_ocorrencias(df_lista_irrelevante)"
   ]
  },
  {
   "cell_type": "markdown",
   "metadata": {},
   "source": [
    "___\n",
    "- **Calculando probabilidades das palavras ocorrerem no Relevante e Irrelevante.**"
   ]
  },
  {
   "cell_type": "code",
   "execution_count": 1066,
   "metadata": {
    "scrolled": true
   },
   "outputs": [],
   "source": [
    "probabilidade_relevante = contagem_relevante.value_counts(True)"
   ]
  },
  {
   "cell_type": "code",
   "execution_count": 1067,
   "metadata": {
    "scrolled": true
   },
   "outputs": [],
   "source": [
    "probabilidade_irrelevante = contagem_irrelevante.value_counts(True)"
   ]
  },
  {
   "cell_type": "markdown",
   "metadata": {},
   "source": [
    "___\n",
    "- **Printando as probabilidade de cada palavra presente nos tweets.**"
   ]
  },
  {
   "cell_type": "code",
   "execution_count": 1068,
   "metadata": {
    "scrolled": true
   },
   "outputs": [
    {
     "data": {
      "text/plain": [
       "nubank    0.056732\n",
       "o         0.030257\n",
       "e         0.027231\n",
       "de        0.025719\n",
       "a         0.022693\n",
       "Name: lista_palavras, dtype: float64"
      ]
     },
     "execution_count": 1068,
     "metadata": {},
     "output_type": "execute_result"
    }
   ],
   "source": [
    "probabilidade_relevante.head()"
   ]
  },
  {
   "cell_type": "code",
   "execution_count": 1069,
   "metadata": {
    "scrolled": true
   },
   "outputs": [
    {
     "data": {
      "text/plain": [
       "nubank    0.046983\n",
       "e         0.028190\n",
       "o         0.025717\n",
       "de        0.024975\n",
       "que       0.020772\n",
       "Name: lista_palavras, dtype: float64"
      ]
     },
     "execution_count": 1069,
     "metadata": {},
     "output_type": "execute_result"
    }
   ],
   "source": [
    "probabilidade_irrelevante.head()"
   ]
  },
  {
   "cell_type": "markdown",
   "metadata": {},
   "source": [
    "___\n",
    "- **Utilizando o DataFrame Teste.**"
   ]
  },
  {
   "cell_type": "code",
   "execution_count": 1070,
   "metadata": {},
   "outputs": [],
   "source": [
    "df_teste = pd.read_excel('Nubank.xlsx','Teste')"
   ]
  },
  {
   "cell_type": "markdown",
   "metadata": {},
   "source": [
    "___\n",
    "- **Filtrando tabela do Teste.**"
   ]
  },
  {
   "cell_type": "code",
   "execution_count": 1071,
   "metadata": {},
   "outputs": [],
   "source": [
    "titulo_teste= 'Teste'\n",
    "titulo_treinamento = 'Treinamento'\n",
    "tabela_teste = limpando_frases(df_teste, titulo_teste)\n",
    "tabela_split_teste = listando_palavras(df_teste, titulo_teste)"
   ]
  },
  {
   "cell_type": "code",
   "execution_count": 1100,
   "metadata": {},
   "outputs": [],
   "source": [
    "#tabela_teste.head()"
   ]
  },
  {
   "cell_type": "code",
   "execution_count": 1099,
   "metadata": {},
   "outputs": [],
   "source": [
    "#tabela_split_teste.head()"
   ]
  },
  {
   "cell_type": "markdown",
   "metadata": {},
   "source": [
    "___\n",
    "- **Filtrando o DataFrame Teste de acordo com as relevâncias.**"
   ]
  },
  {
   "cell_type": "code",
   "execution_count": 1074,
   "metadata": {},
   "outputs": [],
   "source": [
    "tabela_teste_relevante = tabela_teste.loc[(tabela_teste['Relevancia']==1)]\n",
    "tabela_teste_irrelevante = tabela_teste.loc[(tabela_teste['Relevancia']==0)]"
   ]
  },
  {
   "cell_type": "markdown",
   "metadata": {},
   "source": [
    "___\n",
    "- **Transformando os tweets em listas de acordo com a linha. **"
   ]
  },
  {
   "cell_type": "code",
   "execution_count": 1075,
   "metadata": {},
   "outputs": [],
   "source": [
    "df_palavra = calculando_ocorrencias(tabela_split_teste)"
   ]
  },
  {
   "cell_type": "markdown",
   "metadata": {},
   "source": [
    "___\n",
    "- **Calculando as contagens das ocorrências de cada palavra dos tweets.**"
   ]
  },
  {
   "cell_type": "code",
   "execution_count": 1076,
   "metadata": {},
   "outputs": [],
   "source": [
    "contagem_relevante_treinamento = calculando_ocorrencias(df_lista_relevante)\n",
    "contagem_irrelevante_treinamento = calculando_ocorrencias(df_lista_irrelevante)"
   ]
  },
  {
   "cell_type": "code",
   "execution_count": 1077,
   "metadata": {},
   "outputs": [],
   "source": [
    "contagem_relevante_treinamento = contagem_relevante_treinamento.value_counts()\n",
    "contagem_irrelevante_treinamento = contagem_irrelevante_treinamento.value_counts()"
   ]
  },
  {
   "cell_type": "markdown",
   "metadata": {},
   "source": [
    "___\n",
    "- **Calculando as probabilidades de cada palavra de acordo com as ocorrências.**"
   ]
  },
  {
   "cell_type": "code",
   "execution_count": 1078,
   "metadata": {
    "scrolled": true
   },
   "outputs": [],
   "source": [
    "df_palavras_relevantes = listando_palavras(relevancia1,titulo_treinamento)\n",
    "df_palavras_irrelevantes = listando_palavras(relevancia0,titulo_treinamento)"
   ]
  },
  {
   "cell_type": "markdown",
   "metadata": {},
   "source": [
    "___\n",
    "# Verificando a performance:\n",
    "\n",
    "- **Aqui será testado nosso classificador para o excel o qual determina uma classificação para cada tweet de acordo com a probabilidade de cada palavra calculada na parte do treinamento.**"
   ]
  },
  {
   "cell_type": "markdown",
   "metadata": {},
   "source": [
    "___\n",
    "#### Aplicando Suavização do Laplace:"
   ]
  },
  {
   "cell_type": "code",
   "execution_count": 1089,
   "metadata": {},
   "outputs": [
    {
     "name": "stderr",
     "output_type": "stream",
     "text": [
      "C:\\Users\\anton\\Anaconda3\\lib\\site-packages\\ipykernel_launcher.py:64: SettingWithCopyWarning: \n",
      "A value is trying to be set on a copy of a slice from a DataFrame\n",
      "\n",
      "See the caveats in the documentation: http://pandas.pydata.org/pandas-docs/stable/indexing.html#indexing-view-versus-copy\n",
      "C:\\Users\\anton\\Anaconda3\\lib\\site-packages\\ipykernel_launcher.py:66: SettingWithCopyWarning: \n",
      "A value is trying to be set on a copy of a slice from a DataFrame\n",
      "\n",
      "See the caveats in the documentation: http://pandas.pydata.org/pandas-docs/stable/indexing.html#indexing-view-versus-copy\n",
      "C:\\Users\\anton\\Anaconda3\\lib\\site-packages\\ipykernel_launcher.py:68: SettingWithCopyWarning: \n",
      "A value is trying to be set on a copy of a slice from a DataFrame\n",
      "\n",
      "See the caveats in the documentation: http://pandas.pydata.org/pandas-docs/stable/indexing.html#indexing-view-versus-copy\n",
      "C:\\Users\\anton\\Anaconda3\\lib\\site-packages\\ipykernel_launcher.py:56: SettingWithCopyWarning: \n",
      "A value is trying to be set on a copy of a slice from a DataFrame\n",
      "\n",
      "See the caveats in the documentation: http://pandas.pydata.org/pandas-docs/stable/indexing.html#indexing-view-versus-copy\n",
      "C:\\Users\\anton\\Anaconda3\\lib\\site-packages\\ipykernel_launcher.py:58: SettingWithCopyWarning: \n",
      "A value is trying to be set on a copy of a slice from a DataFrame\n",
      "\n",
      "See the caveats in the documentation: http://pandas.pydata.org/pandas-docs/stable/indexing.html#indexing-view-versus-copy\n",
      "C:\\Users\\anton\\Anaconda3\\lib\\site-packages\\ipykernel_launcher.py:60: SettingWithCopyWarning: \n",
      "A value is trying to be set on a copy of a slice from a DataFrame\n",
      "\n",
      "See the caveats in the documentation: http://pandas.pydata.org/pandas-docs/stable/indexing.html#indexing-view-versus-copy\n"
     ]
    }
   ],
   "source": [
    "#Transportando a coluna de classificação do Excel Teste que já foi classificada para gerar a comparação da nossa classificação com a do classificador no DataFrame resultante.\n",
    "tabela_split_teste['Previsoes_Teste'] = pd.Series(tabela_teste['Relevancia'])\n",
    "\n",
    "#Criando coluna com Resultados da Suavização de Laplace do Teste.\n",
    "tabela_split_teste['Resultados_Teste'] = pd.Series()\n",
    "\n",
    "#Criando coluna que mostrará a comparação entre as classificações feitas por nós e pelo classificador.\n",
    "tabela_split_teste['Comparacao'] = pd.Series()\n",
    "\n",
    "#Gerando alpha da fórmula da Suavização de Laplace.\n",
    "alfa=0.8\n",
    "\n",
    "#Utilizando uma variável linha para criar as colunas das classificações. \n",
    "linha = 0\n",
    "\n",
    "#Percorrendo as linhas do DataFrame que apresentam uma lista a cada linha correspondente a coluna palavra (tabela_split_teste). \n",
    "for linha_DataFrame in tabela_split_teste['lista_palavras']:\n",
    "    \n",
    "    #Definindo probabilidade como um no começo do loop para não gerar erro nos cálculos.\n",
    "    probabilidade_relevante = 1\n",
    "    probabilidade_irrelevante = 1\n",
    "    \n",
    "    #Percorrendo as palavras dos tweets que são representadas por lista em que os termos são as palavras.\n",
    "    for palavra in linha_DataFrame:\n",
    "\n",
    "        #Dizendo para o Python utilizar a condição abaixo em que a probabilidade de alguma palavra não é representada na classificação Relevante. \n",
    "        if palavra not in contagem_relevante_treinamento:\n",
    "            \n",
    "            #Gerando o numerador para caso em que há ausência de probabilidade de classifição Relevante.\n",
    "            cont_relevante=alfa\n",
    "            \n",
    "        else:\n",
    "\n",
    "            #Gerando o numerador para caso em que há probabilidade da palavra da classifição Relevante.\n",
    "            cont_relevante=contagem_relevante_treinamento[palavra] + alfa\n",
    "            \n",
    "        #Dizendo para o Python utilizar a condição abaixo em que a probabilidade de alguma palavra não é representada na classificação Irrelevante. \n",
    "        if palavra not in contagem_irrelevante_treinamento:\n",
    "            \n",
    "            #Calculando probabilidade de ser irrelevante no caso em que não existe a palavra na classificação irrelevante.\n",
    "            cont_irrelevante=alfa\n",
    "            \n",
    "        else:\n",
    "            \n",
    "            #Calculando probabilidade de ser irrelevante no caso em que existe a palavra na classificação irrelevante.\n",
    "            cont_irrelevante=contagem_irrelevante_treinamento[palavra] + alfa\n",
    "          \n",
    "        #Calculando probabilidade de ser relevante.\n",
    "        probabilidade_relevante *= (cont_relevante) / (alfa*len(df_palavras) + sum(contagem_relevante_treinamento))         \n",
    "            \n",
    "        #Calculando probabilidade de ser irrelevante.\n",
    "        probabilidade_irrelevante *= (cont_irrelevante) / (alfa*len(df_palavras) + sum(contagem_irrelevante_treinamento))\n",
    "        \n",
    "    \n",
    "    #Encaixando cada resultado de classificação no DataFrame de Comparacao.\n",
    "    if probabilidade_relevante > probabilidade_irrelevante:\n",
    "        tabela_split_teste['Resultados_Teste'][linha] = 1\n",
    "        if tabela_split_teste['Previsoes_Teste'][linha] == 1:\n",
    "            tabela_split_teste['Comparacao'][linha] = 'Relevante Correspondente'\n",
    "        else:\n",
    "            tabela_split_teste['Comparacao'][linha] = 'Relevante Não Correspondente'\n",
    "    \n",
    "    else:\n",
    "        tabela_split_teste['Resultados_Teste'][linha] = 0\n",
    "        if tabela_split_teste['Previsoes_Teste'][linha] == 0:\n",
    "            tabela_split_teste['Comparacao'][linha] = 'Irrelevante Correspondente'\n",
    "        else:\n",
    "            tabela_split_teste['Comparacao'][linha] = 'Irrelevante Não Correspondente'\n",
    "        \n",
    "    linha += 1"
   ]
  },
  {
   "cell_type": "markdown",
   "metadata": {},
   "source": [
    "___\n",
    "#### Printando DataFrame de comparação entre nossa classificação e o classificador."
   ]
  },
  {
   "cell_type": "markdown",
   "metadata": {},
   "source": [
    "- Coluna representando nossa classificação: `Previsoes_Teste`.\n",
    "\n",
    "- Coluna representando o classificador `Resultados_Teste`.\n",
    "\n",
    "- Coluna representando a comparação entre nossa classificação e o classificador: `Comparacao`."
   ]
  },
  {
   "cell_type": "code",
   "execution_count": 1090,
   "metadata": {
    "scrolled": false
   },
   "outputs": [
    {
     "data": {
      "text/html": [
       "<div>\n",
       "<style scoped>\n",
       "    .dataframe tbody tr th:only-of-type {\n",
       "        vertical-align: middle;\n",
       "    }\n",
       "\n",
       "    .dataframe tbody tr th {\n",
       "        vertical-align: top;\n",
       "    }\n",
       "\n",
       "    .dataframe thead th {\n",
       "        text-align: right;\n",
       "    }\n",
       "</style>\n",
       "<table border=\"1\" class=\"dataframe\">\n",
       "  <thead>\n",
       "    <tr style=\"text-align: right;\">\n",
       "      <th></th>\n",
       "      <th>lista_palavras</th>\n",
       "      <th>Previsoes_Teste</th>\n",
       "      <th>Resultados_Teste</th>\n",
       "      <th>Comparacao</th>\n",
       "    </tr>\n",
       "  </thead>\n",
       "  <tbody>\n",
       "    <tr>\n",
       "      <th>0</th>\n",
       "      <td>[nubank, literalmente, ta, salvando, minha, vida]</td>\n",
       "      <td>0</td>\n",
       "      <td>0.0</td>\n",
       "      <td>Irrelevante Correspondente</td>\n",
       "    </tr>\n",
       "    <tr>\n",
       "      <th>1</th>\n",
       "      <td>[marciogneto, derramedastreet, kkkkkk, patroci...</td>\n",
       "      <td>0</td>\n",
       "      <td>0.0</td>\n",
       "      <td>Irrelevante Correspondente</td>\n",
       "    </tr>\n",
       "    <tr>\n",
       "      <th>2</th>\n",
       "      <td>[ei, nubank, algum, problema, com, os, sistema...</td>\n",
       "      <td>1</td>\n",
       "      <td>0.0</td>\n",
       "      <td>Irrelevante Não Correspondente</td>\n",
       "    </tr>\n",
       "    <tr>\n",
       "      <th>3</th>\n",
       "      <td>[nubank, digoth_, a, nuconta, esta, com, probl...</td>\n",
       "      <td>1</td>\n",
       "      <td>1.0</td>\n",
       "      <td>Relevante Correspondente</td>\n",
       "    </tr>\n",
       "    <tr>\n",
       "      <th>4</th>\n",
       "      <td>[cutewa1fu, nubank, e, mt, bomm]</td>\n",
       "      <td>0</td>\n",
       "      <td>0.0</td>\n",
       "      <td>Irrelevante Correspondente</td>\n",
       "    </tr>\n",
       "    <tr>\n",
       "      <th>5</th>\n",
       "      <td>[rt, vaneessaferrari, nao, posso, demorar, uns...</td>\n",
       "      <td>0</td>\n",
       "      <td>0.0</td>\n",
       "      <td>Irrelevante Correspondente</td>\n",
       "    </tr>\n",
       "    <tr>\n",
       "      <th>6</th>\n",
       "      <td>[rt, eviedee, oi, mores, nubank, me, libera, u...</td>\n",
       "      <td>0</td>\n",
       "      <td>0.0</td>\n",
       "      <td>Irrelevante Correspondente</td>\n",
       "    </tr>\n",
       "    <tr>\n",
       "      <th>7</th>\n",
       "      <td>[takuji_takai, estamos, passando, por, um, mom...</td>\n",
       "      <td>0</td>\n",
       "      <td>0.0</td>\n",
       "      <td>Irrelevante Correspondente</td>\n",
       "    </tr>\n",
       "    <tr>\n",
       "      <th>8</th>\n",
       "      <td>[lericiacristiny, vo, ver, se, rola, nubank, f...</td>\n",
       "      <td>0</td>\n",
       "      <td>0.0</td>\n",
       "      <td>Irrelevante Correspondente</td>\n",
       "    </tr>\n",
       "    <tr>\n",
       "      <th>9</th>\n",
       "      <td>[rt, ideias_radicais, chegou, minha, conta, pj...</td>\n",
       "      <td>0</td>\n",
       "      <td>0.0</td>\n",
       "      <td>Irrelevante Correspondente</td>\n",
       "    </tr>\n",
       "    <tr>\n",
       "      <th>10</th>\n",
       "      <td>[experimente, ver, seu, dinheiro, render, auto...</td>\n",
       "      <td>0</td>\n",
       "      <td>0.0</td>\n",
       "      <td>Irrelevante Correspondente</td>\n",
       "    </tr>\n",
       "    <tr>\n",
       "      <th>11</th>\n",
       "      <td>[o, que, a, nubank, tem, a, dizer, sobre, isso...</td>\n",
       "      <td>0</td>\n",
       "      <td>0.0</td>\n",
       "      <td>Irrelevante Correspondente</td>\n",
       "    </tr>\n",
       "    <tr>\n",
       "      <th>12</th>\n",
       "      <td>[o, joelpinheiro85, e, sensato, pq, ele, usa, ...</td>\n",
       "      <td>0</td>\n",
       "      <td>0.0</td>\n",
       "      <td>Irrelevante Correspondente</td>\n",
       "    </tr>\n",
       "    <tr>\n",
       "      <th>13</th>\n",
       "      <td>[rt, nubank, ir, na, feira, e, muito, mais, ec...</td>\n",
       "      <td>0</td>\n",
       "      <td>0.0</td>\n",
       "      <td>Irrelevante Correspondente</td>\n",
       "    </tr>\n",
       "    <tr>\n",
       "      <th>14</th>\n",
       "      <td>[nubank, aguardo, um, posicionamento, de, voce...</td>\n",
       "      <td>1</td>\n",
       "      <td>0.0</td>\n",
       "      <td>Irrelevante Não Correspondente</td>\n",
       "    </tr>\n",
       "    <tr>\n",
       "      <th>15</th>\n",
       "      <td>[kxlvx, nubank, kkkkk, 50, reais, e, foda, kkk...</td>\n",
       "      <td>0</td>\n",
       "      <td>0.0</td>\n",
       "      <td>Irrelevante Correspondente</td>\n",
       "    </tr>\n",
       "    <tr>\n",
       "      <th>16</th>\n",
       "      <td>[rodriguess_die, nubank, kkkkkkkkkkkkkkk, que,...</td>\n",
       "      <td>0</td>\n",
       "      <td>0.0</td>\n",
       "      <td>Irrelevante Correspondente</td>\n",
       "    </tr>\n",
       "    <tr>\n",
       "      <th>17</th>\n",
       "      <td>[rt, otaviado, “nossa, mas, vc, ta, enaltecend...</td>\n",
       "      <td>0</td>\n",
       "      <td>0.0</td>\n",
       "      <td>Irrelevante Correspondente</td>\n",
       "    </tr>\n",
       "    <tr>\n",
       "      <th>18</th>\n",
       "      <td>[nubank, nuconta, fora, do, ar]</td>\n",
       "      <td>1</td>\n",
       "      <td>1.0</td>\n",
       "      <td>Relevante Correspondente</td>\n",
       "    </tr>\n",
       "    <tr>\n",
       "      <th>19</th>\n",
       "      <td>[ze_foobar, essa, e, uma, ideia, super, legal,...</td>\n",
       "      <td>0</td>\n",
       "      <td>0.0</td>\n",
       "      <td>Irrelevante Correspondente</td>\n",
       "    </tr>\n",
       "    <tr>\n",
       "      <th>20</th>\n",
       "      <td>[voude99, nao, to, conseguindo, adicionar, o, ...</td>\n",
       "      <td>1</td>\n",
       "      <td>0.0</td>\n",
       "      <td>Irrelevante Não Correspondente</td>\n",
       "    </tr>\n",
       "    <tr>\n",
       "      <th>21</th>\n",
       "      <td>[nubank, a, nuconta, esta, fora, do, ar, nao, ...</td>\n",
       "      <td>1</td>\n",
       "      <td>1.0</td>\n",
       "      <td>Relevante Correspondente</td>\n",
       "    </tr>\n",
       "    <tr>\n",
       "      <th>22</th>\n",
       "      <td>[maripaulabarros, compensa, a, nuconta, e, a, ...</td>\n",
       "      <td>1</td>\n",
       "      <td>0.0</td>\n",
       "      <td>Irrelevante Não Correspondente</td>\n",
       "    </tr>\n",
       "    <tr>\n",
       "      <th>23</th>\n",
       "      <td>[rafaelthomaz17, nubank, ta, osso, deixar, din...</td>\n",
       "      <td>0</td>\n",
       "      <td>1.0</td>\n",
       "      <td>Relevante Não Correspondente</td>\n",
       "    </tr>\n",
       "    <tr>\n",
       "      <th>24</th>\n",
       "      <td>[nubank, tudo, normalizado, obrigado]</td>\n",
       "      <td>0</td>\n",
       "      <td>0.0</td>\n",
       "      <td>Irrelevante Correspondente</td>\n",
       "    </tr>\n",
       "    <tr>\n",
       "      <th>25</th>\n",
       "      <td>[kenhitifelipe, nubank, ta, ai, pow]</td>\n",
       "      <td>0</td>\n",
       "      <td>1.0</td>\n",
       "      <td>Relevante Não Correspondente</td>\n",
       "    </tr>\n",
       "    <tr>\n",
       "      <th>26</th>\n",
       "      <td>[3, dias, q, fiz, uma, transferencia, p, essa,...</td>\n",
       "      <td>1</td>\n",
       "      <td>0.0</td>\n",
       "      <td>Irrelevante Não Correspondente</td>\n",
       "    </tr>\n",
       "    <tr>\n",
       "      <th>27</th>\n",
       "      <td>[ui, fui, aceita, no, nubank, finalmente]</td>\n",
       "      <td>0</td>\n",
       "      <td>1.0</td>\n",
       "      <td>Relevante Não Correspondente</td>\n",
       "    </tr>\n",
       "    <tr>\n",
       "      <th>28</th>\n",
       "      <td>[rt, xavinher, ontem, o, lucas, passando, meu,...</td>\n",
       "      <td>0</td>\n",
       "      <td>0.0</td>\n",
       "      <td>Irrelevante Correspondente</td>\n",
       "    </tr>\n",
       "    <tr>\n",
       "      <th>29</th>\n",
       "      <td>[nubank, seria, interessante, uma, pagina, de,...</td>\n",
       "      <td>1</td>\n",
       "      <td>0.0</td>\n",
       "      <td>Irrelevante Não Correspondente</td>\n",
       "    </tr>\n",
       "    <tr>\n",
       "      <th>...</th>\n",
       "      <td>...</td>\n",
       "      <td>...</td>\n",
       "      <td>...</td>\n",
       "      <td>...</td>\n",
       "    </tr>\n",
       "    <tr>\n",
       "      <th>170</th>\n",
       "      <td>[rt, hiagodavi_, me, ajuda, gente, achei, esse...</td>\n",
       "      <td>0</td>\n",
       "      <td>0.0</td>\n",
       "      <td>Irrelevante Correspondente</td>\n",
       "    </tr>\n",
       "    <tr>\n",
       "      <th>171</th>\n",
       "      <td>[pauloklaus, pode, contar, com, a, gente, semp...</td>\n",
       "      <td>0</td>\n",
       "      <td>0.0</td>\n",
       "      <td>Irrelevante Correspondente</td>\n",
       "    </tr>\n",
       "    <tr>\n",
       "      <th>172</th>\n",
       "      <td>[nubank, voces, poderiam, disponibilizar, o, c...</td>\n",
       "      <td>1</td>\n",
       "      <td>0.0</td>\n",
       "      <td>Irrelevante Não Correspondente</td>\n",
       "    </tr>\n",
       "    <tr>\n",
       "      <th>173</th>\n",
       "      <td>[frdbs, pippi_haha, e, isso, ai, amigos, roxin...</td>\n",
       "      <td>0</td>\n",
       "      <td>0.0</td>\n",
       "      <td>Irrelevante Correspondente</td>\n",
       "    </tr>\n",
       "    <tr>\n",
       "      <th>174</th>\n",
       "      <td>[alguns, bancos, olham, teu, saldo, pra, tenta...</td>\n",
       "      <td>1</td>\n",
       "      <td>1.0</td>\n",
       "      <td>Relevante Correspondente</td>\n",
       "    </tr>\n",
       "    <tr>\n",
       "      <th>175</th>\n",
       "      <td>[wemerso57959978, por, enquanto, e, so, aguard...</td>\n",
       "      <td>0</td>\n",
       "      <td>0.0</td>\n",
       "      <td>Irrelevante Correspondente</td>\n",
       "    </tr>\n",
       "    <tr>\n",
       "      <th>176</th>\n",
       "      <td>[no, momento, sem, coragem, de, pegar, meu, ca...</td>\n",
       "      <td>0</td>\n",
       "      <td>0.0</td>\n",
       "      <td>Irrelevante Correspondente</td>\n",
       "    </tr>\n",
       "    <tr>\n",
       "      <th>177</th>\n",
       "      <td>[espero, receber, essa, mensagem, um, dia, do,...</td>\n",
       "      <td>0</td>\n",
       "      <td>0.0</td>\n",
       "      <td>Irrelevante Correspondente</td>\n",
       "    </tr>\n",
       "    <tr>\n",
       "      <th>178</th>\n",
       "      <td>[nubank, e, a, transferencia, como, que, fica]</td>\n",
       "      <td>1</td>\n",
       "      <td>0.0</td>\n",
       "      <td>Irrelevante Não Correspondente</td>\n",
       "    </tr>\n",
       "    <tr>\n",
       "      <th>179</th>\n",
       "      <td>[meu, deus, seria, pedir, muito, pra, que, tod...</td>\n",
       "      <td>1</td>\n",
       "      <td>0.0</td>\n",
       "      <td>Irrelevante Não Correspondente</td>\n",
       "    </tr>\n",
       "    <tr>\n",
       "      <th>180</th>\n",
       "      <td>[iamjdoc, vamos, analisar, o, que, ocorreu, pr...</td>\n",
       "      <td>0</td>\n",
       "      <td>0.0</td>\n",
       "      <td>Irrelevante Correspondente</td>\n",
       "    </tr>\n",
       "    <tr>\n",
       "      <th>181</th>\n",
       "      <td>[folingertrepson, a, gente, tem, que, ser, tra...</td>\n",
       "      <td>0</td>\n",
       "      <td>0.0</td>\n",
       "      <td>Irrelevante Correspondente</td>\n",
       "    </tr>\n",
       "    <tr>\n",
       "      <th>182</th>\n",
       "      <td>[rt, ideias_radicais, chegou, minha, conta, pj...</td>\n",
       "      <td>0</td>\n",
       "      <td>0.0</td>\n",
       "      <td>Irrelevante Correspondente</td>\n",
       "    </tr>\n",
       "    <tr>\n",
       "      <th>183</th>\n",
       "      <td>[rt, lynhozinho, o, jovem, modernocoloca, cpf,...</td>\n",
       "      <td>0</td>\n",
       "      <td>0.0</td>\n",
       "      <td>Irrelevante Correspondente</td>\n",
       "    </tr>\n",
       "    <tr>\n",
       "      <th>184</th>\n",
       "      <td>[a, atendente, do, nubank, demorou, 3, minutos...</td>\n",
       "      <td>1</td>\n",
       "      <td>0.0</td>\n",
       "      <td>Irrelevante Não Correspondente</td>\n",
       "    </tr>\n",
       "    <tr>\n",
       "      <th>185</th>\n",
       "      <td>[nubank, ok, ja, chamo]</td>\n",
       "      <td>0</td>\n",
       "      <td>0.0</td>\n",
       "      <td>Irrelevante Correspondente</td>\n",
       "    </tr>\n",
       "    <tr>\n",
       "      <th>186</th>\n",
       "      <td>[crivelarot, nubank, pelo, que, eu, sei, da, t...</td>\n",
       "      <td>0</td>\n",
       "      <td>0.0</td>\n",
       "      <td>Irrelevante Correspondente</td>\n",
       "    </tr>\n",
       "    <tr>\n",
       "      <th>187</th>\n",
       "      <td>[fellipecesr, nubank, morri, mas, nao, julgo, ...</td>\n",
       "      <td>0</td>\n",
       "      <td>0.0</td>\n",
       "      <td>Irrelevante Correspondente</td>\n",
       "    </tr>\n",
       "    <tr>\n",
       "      <th>188</th>\n",
       "      <td>[ola, nubank, o, app, de, vcs, ta, bem, parece...</td>\n",
       "      <td>1</td>\n",
       "      <td>0.0</td>\n",
       "      <td>Irrelevante Não Correspondente</td>\n",
       "    </tr>\n",
       "    <tr>\n",
       "      <th>189</th>\n",
       "      <td>[g_i_o_anni, vamos, pulara, parte, que, voce, ...</td>\n",
       "      <td>0</td>\n",
       "      <td>0.0</td>\n",
       "      <td>Irrelevante Correspondente</td>\n",
       "    </tr>\n",
       "    <tr>\n",
       "      <th>190</th>\n",
       "      <td>[editorkaio, nubank, amor, deixa, eu, estourar...</td>\n",
       "      <td>0</td>\n",
       "      <td>0.0</td>\n",
       "      <td>Irrelevante Correspondente</td>\n",
       "    </tr>\n",
       "    <tr>\n",
       "      <th>191</th>\n",
       "      <td>[alo, nubank, sistema, de, vcs, ta, ok, hoje, ...</td>\n",
       "      <td>1</td>\n",
       "      <td>1.0</td>\n",
       "      <td>Relevante Correspondente</td>\n",
       "    </tr>\n",
       "    <tr>\n",
       "      <th>192</th>\n",
       "      <td>[nubank, vamo, pronunciar, sobre, o, bug, do, ...</td>\n",
       "      <td>0</td>\n",
       "      <td>0.0</td>\n",
       "      <td>Irrelevante Correspondente</td>\n",
       "    </tr>\n",
       "    <tr>\n",
       "      <th>193</th>\n",
       "      <td>[meu, cartao, nubank, chegouo, cinema, e, real]</td>\n",
       "      <td>0</td>\n",
       "      <td>0.0</td>\n",
       "      <td>Irrelevante Correspondente</td>\n",
       "    </tr>\n",
       "    <tr>\n",
       "      <th>194</th>\n",
       "      <td>[fabiohcnobre, nao, se, preocupe, logo, menos,...</td>\n",
       "      <td>0</td>\n",
       "      <td>0.0</td>\n",
       "      <td>Irrelevante Correspondente</td>\n",
       "    </tr>\n",
       "    <tr>\n",
       "      <th>195</th>\n",
       "      <td>[isaaaamartinsss, agora, e, so, curtir, muito,...</td>\n",
       "      <td>0</td>\n",
       "      <td>0.0</td>\n",
       "      <td>Irrelevante Correspondente</td>\n",
       "    </tr>\n",
       "    <tr>\n",
       "      <th>196</th>\n",
       "      <td>[obrigado, naonasciotaria, por, me, emprestar,...</td>\n",
       "      <td>0</td>\n",
       "      <td>0.0</td>\n",
       "      <td>Irrelevante Correspondente</td>\n",
       "    </tr>\n",
       "    <tr>\n",
       "      <th>197</th>\n",
       "      <td>[digoth_, nubank, menina, acho, que, se, vc, m...</td>\n",
       "      <td>0</td>\n",
       "      <td>0.0</td>\n",
       "      <td>Irrelevante Correspondente</td>\n",
       "    </tr>\n",
       "    <tr>\n",
       "      <th>198</th>\n",
       "      <td>[sperangiu, eu, to, rindo, mt, desse, tweet, n...</td>\n",
       "      <td>0</td>\n",
       "      <td>1.0</td>\n",
       "      <td>Relevante Não Correspondente</td>\n",
       "    </tr>\n",
       "    <tr>\n",
       "      <th>199</th>\n",
       "      <td>[usuarios, relatam, instabilidade, no, aplicat...</td>\n",
       "      <td>1</td>\n",
       "      <td>0.0</td>\n",
       "      <td>Irrelevante Não Correspondente</td>\n",
       "    </tr>\n",
       "  </tbody>\n",
       "</table>\n",
       "<p>200 rows × 4 columns</p>\n",
       "</div>"
      ],
      "text/plain": [
       "                                        lista_palavras  Previsoes_Teste  \\\n",
       "0    [nubank, literalmente, ta, salvando, minha, vida]                0   \n",
       "1    [marciogneto, derramedastreet, kkkkkk, patroci...                0   \n",
       "2    [ei, nubank, algum, problema, com, os, sistema...                1   \n",
       "3    [nubank, digoth_, a, nuconta, esta, com, probl...                1   \n",
       "4                     [cutewa1fu, nubank, e, mt, bomm]                0   \n",
       "5    [rt, vaneessaferrari, nao, posso, demorar, uns...                0   \n",
       "6    [rt, eviedee, oi, mores, nubank, me, libera, u...                0   \n",
       "7    [takuji_takai, estamos, passando, por, um, mom...                0   \n",
       "8    [lericiacristiny, vo, ver, se, rola, nubank, f...                0   \n",
       "9    [rt, ideias_radicais, chegou, minha, conta, pj...                0   \n",
       "10   [experimente, ver, seu, dinheiro, render, auto...                0   \n",
       "11   [o, que, a, nubank, tem, a, dizer, sobre, isso...                0   \n",
       "12   [o, joelpinheiro85, e, sensato, pq, ele, usa, ...                0   \n",
       "13   [rt, nubank, ir, na, feira, e, muito, mais, ec...                0   \n",
       "14   [nubank, aguardo, um, posicionamento, de, voce...                1   \n",
       "15   [kxlvx, nubank, kkkkk, 50, reais, e, foda, kkk...                0   \n",
       "16   [rodriguess_die, nubank, kkkkkkkkkkkkkkk, que,...                0   \n",
       "17   [rt, otaviado, “nossa, mas, vc, ta, enaltecend...                0   \n",
       "18                     [nubank, nuconta, fora, do, ar]                1   \n",
       "19   [ze_foobar, essa, e, uma, ideia, super, legal,...                0   \n",
       "20   [voude99, nao, to, conseguindo, adicionar, o, ...                1   \n",
       "21   [nubank, a, nuconta, esta, fora, do, ar, nao, ...                1   \n",
       "22   [maripaulabarros, compensa, a, nuconta, e, a, ...                1   \n",
       "23   [rafaelthomaz17, nubank, ta, osso, deixar, din...                0   \n",
       "24               [nubank, tudo, normalizado, obrigado]                0   \n",
       "25                [kenhitifelipe, nubank, ta, ai, pow]                0   \n",
       "26   [3, dias, q, fiz, uma, transferencia, p, essa,...                1   \n",
       "27           [ui, fui, aceita, no, nubank, finalmente]                0   \n",
       "28   [rt, xavinher, ontem, o, lucas, passando, meu,...                0   \n",
       "29   [nubank, seria, interessante, uma, pagina, de,...                1   \n",
       "..                                                 ...              ...   \n",
       "170  [rt, hiagodavi_, me, ajuda, gente, achei, esse...                0   \n",
       "171  [pauloklaus, pode, contar, com, a, gente, semp...                0   \n",
       "172  [nubank, voces, poderiam, disponibilizar, o, c...                1   \n",
       "173  [frdbs, pippi_haha, e, isso, ai, amigos, roxin...                0   \n",
       "174  [alguns, bancos, olham, teu, saldo, pra, tenta...                1   \n",
       "175  [wemerso57959978, por, enquanto, e, so, aguard...                0   \n",
       "176  [no, momento, sem, coragem, de, pegar, meu, ca...                0   \n",
       "177  [espero, receber, essa, mensagem, um, dia, do,...                0   \n",
       "178     [nubank, e, a, transferencia, como, que, fica]                1   \n",
       "179  [meu, deus, seria, pedir, muito, pra, que, tod...                1   \n",
       "180  [iamjdoc, vamos, analisar, o, que, ocorreu, pr...                0   \n",
       "181  [folingertrepson, a, gente, tem, que, ser, tra...                0   \n",
       "182  [rt, ideias_radicais, chegou, minha, conta, pj...                0   \n",
       "183  [rt, lynhozinho, o, jovem, modernocoloca, cpf,...                0   \n",
       "184  [a, atendente, do, nubank, demorou, 3, minutos...                1   \n",
       "185                            [nubank, ok, ja, chamo]                0   \n",
       "186  [crivelarot, nubank, pelo, que, eu, sei, da, t...                0   \n",
       "187  [fellipecesr, nubank, morri, mas, nao, julgo, ...                0   \n",
       "188  [ola, nubank, o, app, de, vcs, ta, bem, parece...                1   \n",
       "189  [g_i_o_anni, vamos, pulara, parte, que, voce, ...                0   \n",
       "190  [editorkaio, nubank, amor, deixa, eu, estourar...                0   \n",
       "191  [alo, nubank, sistema, de, vcs, ta, ok, hoje, ...                1   \n",
       "192  [nubank, vamo, pronunciar, sobre, o, bug, do, ...                0   \n",
       "193    [meu, cartao, nubank, chegouo, cinema, e, real]                0   \n",
       "194  [fabiohcnobre, nao, se, preocupe, logo, menos,...                0   \n",
       "195  [isaaaamartinsss, agora, e, so, curtir, muito,...                0   \n",
       "196  [obrigado, naonasciotaria, por, me, emprestar,...                0   \n",
       "197  [digoth_, nubank, menina, acho, que, se, vc, m...                0   \n",
       "198  [sperangiu, eu, to, rindo, mt, desse, tweet, n...                0   \n",
       "199  [usuarios, relatam, instabilidade, no, aplicat...                1   \n",
       "\n",
       "     Resultados_Teste                      Comparacao  \n",
       "0                 0.0      Irrelevante Correspondente  \n",
       "1                 0.0      Irrelevante Correspondente  \n",
       "2                 0.0  Irrelevante Não Correspondente  \n",
       "3                 1.0        Relevante Correspondente  \n",
       "4                 0.0      Irrelevante Correspondente  \n",
       "5                 0.0      Irrelevante Correspondente  \n",
       "6                 0.0      Irrelevante Correspondente  \n",
       "7                 0.0      Irrelevante Correspondente  \n",
       "8                 0.0      Irrelevante Correspondente  \n",
       "9                 0.0      Irrelevante Correspondente  \n",
       "10                0.0      Irrelevante Correspondente  \n",
       "11                0.0      Irrelevante Correspondente  \n",
       "12                0.0      Irrelevante Correspondente  \n",
       "13                0.0      Irrelevante Correspondente  \n",
       "14                0.0  Irrelevante Não Correspondente  \n",
       "15                0.0      Irrelevante Correspondente  \n",
       "16                0.0      Irrelevante Correspondente  \n",
       "17                0.0      Irrelevante Correspondente  \n",
       "18                1.0        Relevante Correspondente  \n",
       "19                0.0      Irrelevante Correspondente  \n",
       "20                0.0  Irrelevante Não Correspondente  \n",
       "21                1.0        Relevante Correspondente  \n",
       "22                0.0  Irrelevante Não Correspondente  \n",
       "23                1.0    Relevante Não Correspondente  \n",
       "24                0.0      Irrelevante Correspondente  \n",
       "25                1.0    Relevante Não Correspondente  \n",
       "26                0.0  Irrelevante Não Correspondente  \n",
       "27                1.0    Relevante Não Correspondente  \n",
       "28                0.0      Irrelevante Correspondente  \n",
       "29                0.0  Irrelevante Não Correspondente  \n",
       "..                ...                             ...  \n",
       "170               0.0      Irrelevante Correspondente  \n",
       "171               0.0      Irrelevante Correspondente  \n",
       "172               0.0  Irrelevante Não Correspondente  \n",
       "173               0.0      Irrelevante Correspondente  \n",
       "174               1.0        Relevante Correspondente  \n",
       "175               0.0      Irrelevante Correspondente  \n",
       "176               0.0      Irrelevante Correspondente  \n",
       "177               0.0      Irrelevante Correspondente  \n",
       "178               0.0  Irrelevante Não Correspondente  \n",
       "179               0.0  Irrelevante Não Correspondente  \n",
       "180               0.0      Irrelevante Correspondente  \n",
       "181               0.0      Irrelevante Correspondente  \n",
       "182               0.0      Irrelevante Correspondente  \n",
       "183               0.0      Irrelevante Correspondente  \n",
       "184               0.0  Irrelevante Não Correspondente  \n",
       "185               0.0      Irrelevante Correspondente  \n",
       "186               0.0      Irrelevante Correspondente  \n",
       "187               0.0      Irrelevante Correspondente  \n",
       "188               0.0  Irrelevante Não Correspondente  \n",
       "189               0.0      Irrelevante Correspondente  \n",
       "190               0.0      Irrelevante Correspondente  \n",
       "191               1.0        Relevante Correspondente  \n",
       "192               0.0      Irrelevante Correspondente  \n",
       "193               0.0      Irrelevante Correspondente  \n",
       "194               0.0      Irrelevante Correspondente  \n",
       "195               0.0      Irrelevante Correspondente  \n",
       "196               0.0      Irrelevante Correspondente  \n",
       "197               0.0      Irrelevante Correspondente  \n",
       "198               1.0    Relevante Não Correspondente  \n",
       "199               0.0  Irrelevante Não Correspondente  \n",
       "\n",
       "[200 rows x 4 columns]"
      ]
     },
     "execution_count": 1090,
     "metadata": {},
     "output_type": "execute_result"
    }
   ],
   "source": [
    "tabela_split_teste"
   ]
  },
  {
   "cell_type": "markdown",
   "metadata": {},
   "source": [
    "___\n",
    "- **Cruzando comparação de relevância do comparador com a nossa classificação.**"
   ]
  },
  {
   "cell_type": "code",
   "execution_count": 1091,
   "metadata": {},
   "outputs": [
    {
     "data": {
      "text/html": [
       "<div>\n",
       "<style scoped>\n",
       "    .dataframe tbody tr th:only-of-type {\n",
       "        vertical-align: middle;\n",
       "    }\n",
       "\n",
       "    .dataframe tbody tr th {\n",
       "        vertical-align: top;\n",
       "    }\n",
       "\n",
       "    .dataframe thead th {\n",
       "        text-align: right;\n",
       "    }\n",
       "</style>\n",
       "<table border=\"1\" class=\"dataframe\">\n",
       "  <thead>\n",
       "    <tr style=\"text-align: right;\">\n",
       "      <th>Resultados_Teste</th>\n",
       "      <th>0.0</th>\n",
       "      <th>1.0</th>\n",
       "    </tr>\n",
       "    <tr>\n",
       "      <th>Previsoes_Teste</th>\n",
       "      <th></th>\n",
       "      <th></th>\n",
       "    </tr>\n",
       "  </thead>\n",
       "  <tbody>\n",
       "    <tr>\n",
       "      <th>0</th>\n",
       "      <td>0.710</td>\n",
       "      <td>0.055</td>\n",
       "    </tr>\n",
       "    <tr>\n",
       "      <th>1</th>\n",
       "      <td>0.155</td>\n",
       "      <td>0.080</td>\n",
       "    </tr>\n",
       "  </tbody>\n",
       "</table>\n",
       "</div>"
      ],
      "text/plain": [
       "Resultados_Teste    0.0    1.0\n",
       "Previsoes_Teste               \n",
       "0                 0.710  0.055\n",
       "1                 0.155  0.080"
      ]
     },
     "execution_count": 1091,
     "metadata": {},
     "output_type": "execute_result"
    }
   ],
   "source": [
    "pd.crosstab(tabela_split_teste.Previsoes_Teste,tabela_split_teste.Resultados_Teste,normalize=True)"
   ]
  },
  {
   "cell_type": "markdown",
   "metadata": {},
   "source": [
    " ___\n",
    " - **Printando porcentagens das comparações:**"
   ]
  },
  {
   "cell_type": "code",
   "execution_count": 1092,
   "metadata": {
    "scrolled": true
   },
   "outputs": [
    {
     "name": "stdout",
     "output_type": "stream",
     "text": [
      "Irrelevante Correspondente        71.0\n",
      "Irrelevante Não Correspondente    15.5\n",
      "Relevante Correspondente           8.0\n",
      "Relevante Não Correspondente       5.5\n",
      "Name: Comparacao, dtype: float64\n"
     ]
    }
   ],
   "source": [
    "Valores_Finais_decimal = (tabela_split_teste['Comparacao'].value_counts(True))\n",
    "Valores_Finais = Valores_Finais_decimal * 100\n",
    "print(Valores_Finais)"
   ]
  },
  {
   "cell_type": "markdown",
   "metadata": {},
   "source": [
    "___\n",
    "- **Printando contagem das comparações:**"
   ]
  },
  {
   "cell_type": "code",
   "execution_count": 1093,
   "metadata": {},
   "outputs": [
    {
     "name": "stdout",
     "output_type": "stream",
     "text": [
      "Irrelevante Correspondente        142\n",
      "Irrelevante Não Correspondente     31\n",
      "Relevante Correspondente           16\n",
      "Relevante Não Correspondente       11\n",
      "Name: Comparacao, dtype: int64\n"
     ]
    }
   ],
   "source": [
    "Valores_Finais_contados = (tabela_split_teste['Comparacao'].value_counts())\n",
    "print(Valores_Finais_contados)"
   ]
  },
  {
   "cell_type": "code",
   "execution_count": 1098,
   "metadata": {},
   "outputs": [],
   "source": [
    "Correspondentes = Valores_Finais_contados[0] + Valores_Finais_contados[3]\n",
    "Nao_Correspondentes = Valores_Finais_contados[1] + Valores_Finais_contados[2]\n",
    "espaco_amostral = Valores_Finais_contados.sum()"
   ]
  },
  {
   "cell_type": "code",
   "execution_count": 1095,
   "metadata": {},
   "outputs": [],
   "source": [
    "porcentagem_Correspondentes = Correspondentes / espaco_amostral\n",
    "porcentagem_Nao_Correspondentes = Nao_Correspondentes / espaco_amostral"
   ]
  },
  {
   "cell_type": "code",
   "execution_count": 1096,
   "metadata": {},
   "outputs": [],
   "source": [
    "dataframe = pd.DataFrame({'Correspondencia_Correta' : [porcentagem_Correspondentes, porcentagem_Nao_Correspondentes]} , index = ['Correspondente','Não_Correspondente'])"
   ]
  },
  {
   "cell_type": "markdown",
   "metadata": {},
   "source": [
    "___\n",
    "- **Plotando gráfico que mostra as correspondências corretas e incorretas:**"
   ]
  },
  {
   "cell_type": "code",
   "execution_count": 1097,
   "metadata": {},
   "outputs": [
    {
     "data": {
      "image/png": "[encoded data removed]",
      "text/plain": [
       "<Figure size 360x360 with 1 Axes>"
      ]
     },
     "metadata": {},
     "output_type": "display_data"
    }
   ],
   "source": [
    "dataframe.plot.pie(y='Correspondencia_Correta', figsize=(5,5), colors=['green','red'])\n",
    "plt.title('Correspondências')\n",
    "plt.ylabel('');"
   ]
  },
  {
   "cell_type": "markdown",
   "metadata": {},
   "source": [
    "___\n",
    "### Concluindo:"
   ]
  },
  {
   "cell_type": "markdown",
   "metadata": {},
   "source": [
    "**Por fim, a comparação entre os dados do comparador e da nossa classificação obteve esses resultados:**\n",
    "\n",
    "- Irrelevante Correspondente: 71.0%\n",
    "\n",
    "- Irrelevante Não Correspondente: 15.5%\n",
    "\n",
    "- Relevante Correspondente: 8.0%\n",
    "\n",
    "- Relevante Não Correspondente: 5.5% \n",
    "\n",
    "**A partir desses dados pode-se concluir que o classificador não foi muito efetivo ao classificar os itens relevantes, de forma que as porcentagens correspondentes relevantes são cerca de 8%. Isso pode ter ocorrido por conta da diferença do número de frases consideradas irrelevantes e relevantes, tendo muito mais frases irrelevantes. Essa disparidade, afeta o cálculo das probabilidades de cada palavra, isso pode ser comprovado por conta dos dados gerados na comparação entre o nossa classificação e o classificador, pois o classificador acertou cerca de 71% dos tweets considerados irrelevantes para a empresa.**\n",
    "\n",
    "**Além disso, algumas melhorias poderiam ser utilizadas para que a comparação das classificações dos tweets fosse mais efetiva, dentre elas estão:**\n",
    "\n",
    "- Selecionar algumas palavras que sejam consideradas relevantes para o produto ou empresa;\n",
    "\n",
    "- Considerar mais classificações dos tweets, por exemplo, **Crítica, Elogio, Pergunta/Dúvida, Melhoria, e Sugestão**;\n",
    "\n",
    "- Propor uma forma mais efetiva de limpeza, por exemplo, erros de ortografia não são considerados e por isso uma palavra pode aparecer várias vezes pelo fato de ter sido escrita de maneiras diferentes ou incorretas.\n",
    "\n",
    "**O Naive-Bayes tem uma aplicação abrangente, uma vez que ele consegue calcular as probabilidades e concluir suas classificações de um modo preciso utilizando uma quantidade de dados pequena. Desse modo, ele é utilizado para várias classificações como, diagnóticos médicos, venda de produtos baseado no seu sexo ou idade e outros.**"
   ]
  },
  {
   "cell_type": "markdown",
   "metadata": {},
   "source": [
    "___\n",
    "# Bibliografia:"
   ]
  },
  {
   "cell_type": "markdown",
   "metadata": {},
   "source": [
    "[Naive Bayes and Text Classification](https://arxiv.org/pdf/1410.5329.pdf)\n",
    "\n",
    "**Suavização de Laplace**:\n",
    "[A practical explanation of a Naive Bayes Classifier](https://monkeylearn.com/blog/practical-explanation-naive-bayes-classifier/) \n",
    "\n",
    "[https://www.organicadigital.com/blog/algoritmo-de-classificacao-naive-bayes/] "
   ]
  },
  {
   "cell_type": "code",
   "execution_count": null,
   "metadata": {},
   "outputs": [],
   "source": []
  }
 ],
 "metadata": {
  "kernelspec": {
   "display_name": "Python 3",
   "language": "python",
   "name": "python3"
  },
  "language_info": {
   "codemirror_mode": {
    "name": "ipython",
    "version": 3
   },
   "file_extension": ".py",
   "mimetype": "text/x-python",
   "name": "python",
   "nbconvert_exporter": "python",
   "pygments_lexer": "ipython3",
   "version": "3.7.1"
  }
 },
 "nbformat": 4,
 "nbformat_minor": 4
}
